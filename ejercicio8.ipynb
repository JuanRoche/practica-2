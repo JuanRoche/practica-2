{
 "cells": [
  {
   "cell_type": "markdown",
   "metadata": {},
   "source": [
    "si el conjunto tiene la misma cantidad de letras que el string entonces es un heterograma.\n",
    "Cuento letras del string y comparo con el len del conjunto"
   ]
  },
  {
   "cell_type": "code",
   "execution_count": 17,
   "metadata": {},
   "outputs": [
    {
     "name": "stdout",
     "output_type": "stream",
     "text": [
      "{'u', 'p', 'c', 'e', 'n', 'l', 's', 'a', 'o', 'd', 'i', '-'}\n",
      "no-se-duplica es un heterograma\n"
     ]
    }
   ],
   "source": [
    "import string\n",
    "\n",
    "phrase = input(\"Enter a phrase or word\")\n",
    "\n",
    "my_set = set(phrase)\n",
    "\n",
    "print(my_set)\n",
    "\n",
    "\"\"\"words_list = phrase.split()\n",
    "print(words_list)\n",
    "\n",
    "counter_letters = 0\n",
    "\n",
    "if len(words_list) > 1:    \n",
    "    for word in words_list:\n",
    "        counter_letters += len(word)\n",
    "    #le resto el espacio en blanco a my_set, para que solo tenga las letras de la palabra\n",
    "    if counter_letters == len(my_set) - 1:\n",
    "        print(f\"{phrase} es un heterograma\")\n",
    "    else: print(f\"{phrase} no es un heterograma\")\n",
    "else:\n",
    "    counter_letters = len(phrase)\n",
    "    if counter_letters == len(my_set):\n",
    "        print(f\"{phrase} es un heterograma\")\n",
    "    else: print(f\"{phrase} no es un heterograma\")\n",
    "\"\"\"\n",
    "\n",
    "#cuento las letras de frase\n",
    "counter_phrase = 0\n",
    "\n",
    "for char in phrase:\n",
    "    if string.ascii_letters.__contains__(char):\n",
    "        counter_phrase += 1\n",
    "\n",
    "counter_set = 0\n",
    "\n",
    "for elem in my_set:\n",
    "    if string.ascii_letters.__contains__(elem):\n",
    "        counter_set += 1\n",
    "\n",
    "if counter_phrase == counter_set:\n",
    "    print(f\"{phrase} es un heterograma\")\n",
    "else: print(f\"{phrase} no es un heterograma\")"
   ]
  }
 ],
 "metadata": {
  "kernelspec": {
   "display_name": "venv",
   "language": "python",
   "name": "python3"
  },
  "language_info": {
   "codemirror_mode": {
    "name": "ipython",
    "version": 3
   },
   "file_extension": ".py",
   "mimetype": "text/x-python",
   "name": "python",
   "nbconvert_exporter": "python",
   "pygments_lexer": "ipython3",
   "version": "3.11.2"
  }
 },
 "nbformat": 4,
 "nbformat_minor": 2
}
