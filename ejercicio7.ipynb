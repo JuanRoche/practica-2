{
 "cells": [
  {
   "cell_type": "code",
   "execution_count": 1,
   "metadata": {},
   "outputs": [],
   "source": [
    "import string\n",
    "text = \"\"\" La brecha salarial alcanzó el 27,7%: las mujeres ocupadas\n",
    "debieron trabajar 8 días y 10 horas más que los varones ocupados para\n",
    "ganar lo mismo que ellos en un mes. \"\"\""
   ]
  },
  {
   "cell_type": "code",
   "execution_count": 3,
   "metadata": {},
   "outputs": [
    {
     "name": "stdout",
     "output_type": "stream",
     "text": [
      "[]\n",
      "char mayus: 1, lower: 120, no letters: 13, total words: 0\n"
     ]
    }
   ],
   "source": [
    "low = 0\n",
    "up = 0\n",
    "no_letters = 0\n",
    "words = 0\n",
    "\n",
    "words_list = text.split()\n",
    "\n",
    "for word in words_list:\n",
    "    for char in word:\n",
    "        if string.ascii_letters.__contains__(char):\n",
    "            if string.ascii_uppercase.__contains__(char):\n",
    "                up += 1\n",
    "            elif string.ascii_lowercase.__contains__(char):\n",
    "                low += 1 \n",
    "        else: no_letters += 1\n",
    "\n",
    "count_words = [word for word in words_list if (not word.isdigit) and (not string.punctuation.__contains__(word))]\n",
    "\n",
    "print(count_words)\n",
    "\n",
    "words = len(count_words)\n",
    "\n",
    "print(f\"char mayus: {up}, lower: {low}, no letters: {no_letters}, total words: {words}\")\n",
    "\n",
    "\n",
    "\n",
    "\n"
   ]
  }
 ],
 "metadata": {
  "kernelspec": {
   "display_name": "venv",
   "language": "python",
   "name": "python3"
  },
  "language_info": {
   "codemirror_mode": {
    "name": "ipython",
    "version": 3
   },
   "file_extension": ".py",
   "mimetype": "text/x-python",
   "name": "python",
   "nbconvert_exporter": "python",
   "pygments_lexer": "ipython3",
   "version": "3.11.2"
  }
 },
 "nbformat": 4,
 "nbformat_minor": 2
}
