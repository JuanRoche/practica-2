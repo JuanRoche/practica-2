{
 "cells": [
  {
   "cell_type": "code",
   "execution_count": 5,
   "metadata": {},
   "outputs": [
    {
     "name": "stdout",
     "output_type": "stream",
     "text": [
      "Valor de B = 3\n"
     ]
    }
   ],
   "source": [
    "word = input(\"ingrese una palabra: \")\n",
    "word.upper()\n",
    "dic = {(\"A\", \"E\", \"I\", \"O\", \"U\", \"L\", \"N\", \"R\", \"S\", \"T\"): 1, \n",
    "       (\"D\", \"G\"): 2, (\"B\", \"C\", \"M\", \"P\"): 3, (\"F\", \"H\", \"V\", \"W\", \"Y\"): 4,\n",
    "       (\"K\"): 5, (\"J\", \"X\"): 8, (\"Q\", \"Z\"): 10}\n",
    "\n",
    "value = 0\n",
    "\n",
    "for char in word:\n",
    "    match char:\n",
    "        case \"A\"| \"E\"| \"I\"| \"O\"| \"U\"| \"L\"|\"N\"|\"R\"|\"S\"| \"T\":\n",
    "            value += 1\n",
    "        case \"D\" | \"G\":\n",
    "            value += 2\n",
    "        case \"B\"| \"C\"| \"M\"| \"P\":\n",
    "            value += 3\n",
    "        case \"F\"| \"H\"| \"V\"| \"W\"| \"Y\":\n",
    "            value += 4\n",
    "        case \"K\":\n",
    "            value += 5\n",
    "        case \"J\"| \"X\":\n",
    "            value += 8\n",
    "        case \"Q\"| \"Z\":\n",
    "            value += 10\n",
    "print(f\"Valor de {word} = {value}\")"
   ]
  }
 ],
 "metadata": {
  "kernelspec": {
   "display_name": "venv",
   "language": "python",
   "name": "python3"
  },
  "language_info": {
   "codemirror_mode": {
    "name": "ipython",
    "version": 3
   },
   "file_extension": ".py",
   "mimetype": "text/x-python",
   "name": "python",
   "nbconvert_exporter": "python",
   "pygments_lexer": "ipython3",
   "version": "3.11.2"
  }
 },
 "nbformat": 4,
 "nbformat_minor": 2
}
