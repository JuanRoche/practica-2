{
 "cells": [
  {
   "cell_type": "code",
   "execution_count": 3,
   "metadata": {},
   "outputs": [],
   "source": [
    "import string\n",
    "article = \"\"\" título: Experiences in Developing a Distributed Agentbased Modeling Toolkit with Python Version 3\n",
    "resumen: Distributed agent-based modeling (ABM) on high-performance\n",
    "computing resources provides the promise of capturing unprecedented\n",
    "details of large-scale complex systems. However, the specialized\n",
    "knowledge required for developing such ABMs creates barriers to wider\n",
    "adoption and utilization. Here we present our experiences in\n",
    "developing an initial implementation of Repast4Py, a Python-based\n",
    "distributed ABM toolkit. We build on our experiences in developing ABM\n",
    "toolkits, including Repast for High Performance Computing (Repast\n",
    "HPC), to identify the key elements of a useful distributed ABM\n",
    "toolkit. We leverage the Numba, NumPy, and PyTorch packages and the Python C-API to create a scalable modeling system that can exploit the\n",
    "largest HPC resources and emerging computing architectures. \"\"\""
   ]
  },
  {
   "cell_type": "markdown",
   "metadata": {},
   "source": [
    "Separo en dos variables el texto."
   ]
  },
  {
   "cell_type": "code",
   "execution_count": 9,
   "metadata": {},
   "outputs": [
    {
     "name": "stdout",
     "output_type": "stream",
     "text": [
      "<class 'str'>\n",
      " título: Experiences in Developing a Distributed Agentbased Modeling Toolkit with Python Version 3\n",
      "\n",
      " Distributed agent-based modeling (ABM) on high-performance\n",
      "computing resources provides the promise of capturing unprecedented\n",
      "details of large-scale complex systems. However, the specialized\n",
      "knowledge required for developing such ABMs creates barriers to wider\n",
      "adoption and utilization. Here we present our experiences in\n",
      "developing an initial implementation of Repast4Py, a Python-based\n",
      "distributed ABM toolkit. We build on our experiences in developing ABM\n",
      "toolkits, including Repast for High Performance Computing (Repast\n",
      "HPC), to identify the key elements of a useful distributed ABM\n",
      "toolkit. We leverage the Numba, NumPy, and PyTorch packages and the Python C-API to create a scalable modeling system that can exploit the\n",
      "largest HPC resources and emerging computing architectures. \n"
     ]
    }
   ],
   "source": [
    "print(type(article))\n",
    "article_list = []\n",
    "article_list = article.split(\"resumen:\")\n",
    "tittle = article_list[0]\n",
    "summary = article_list[1]\n",
    "print(tittle)\n",
    "print(summary)\n",
    "\n"
   ]
  },
  {
   "cell_type": "markdown",
   "metadata": {},
   "source": [
    "Ahora divido en palabras el titulo y las cuento."
   ]
  },
  {
   "cell_type": "code",
   "execution_count": 10,
   "metadata": {},
   "outputs": [],
   "source": [
    "tittle_words = 0\n",
    "tittle_list = tittle.split()\n",
    "for word in tittle_list:\n",
    "    if(string.ascii_letters.__contains__(word)): \n",
    "        tittle_words += 1"
   ]
  },
  {
   "cell_type": "markdown",
   "metadata": {},
   "source": [
    "El resumen debe dividirese en oraciones y cada oracion en palabras, y recorrer el resumen, recorriendo cada oracion. inicializo contador para cada tipo de oracion."
   ]
  },
  {
   "cell_type": "code",
   "execution_count": 16,
   "metadata": {},
   "outputs": [
    {
     "name": "stdout",
     "output_type": "stream",
     "text": [
      "[' Distributed agent-based modeling (ABM) on high-performance\\ncomputing resources provides the promise of capturing unprecedented\\ndetails of large-scale complex systems', ' However, the specialized\\nknowledge required for developing such ABMs creates barriers to wider\\nadoption and utilization', ' Here we present our experiences in\\ndeveloping an initial implementation of Repast4Py, a Python-based\\ndistributed ABM toolkit', ' We build on our experiences in developing ABM\\ntoolkits, including Repast for High Performance Computing (Repast\\nHPC), to identify the key elements of a useful distributed ABM\\ntoolkit', ' We leverage the Numba, NumPy, and PyTorch packages and the Python C-API to create a scalable modeling system that can exploit the\\nlargest HPC resources and emerging computing architectures', ' ']\n",
      "19\n",
      "16\n",
      "17\n",
      "28\n",
      "29\n",
      "0\n",
      "its ok\n",
      "Easy sentences: 1. Aceptable: 2. Hard: 1. Very hard: 2\n"
     ]
    }
   ],
   "source": [
    "\n",
    "easy = 0\n",
    "hard = 0\n",
    "very_hard = 0\n",
    "aceptable = 0\n",
    "\n",
    "sentences = summary.split(\".\")\n",
    "print(sentences)\n",
    "\n",
    "for sentence in sentences:\n",
    "    aux_list = sentence.split()\n",
    "    print(len(aux_list))\n",
    "    words_count = 0\n",
    "    for word in aux_list:\n",
    "        if(word.isdigit()):\n",
    "            continue\n",
    "        words_count += 1\n",
    "    if words_count >= 12:\n",
    "        if words_count <= 17:\n",
    "            aceptable += 1 \n",
    "        elif words_count <= 25:\n",
    "            hard += 1\n",
    "        else: very_hard += 1\n",
    "    else: easy += 1\n",
    "\n",
    "if tittle_words < 10:\n",
    "    print(\"its ok\")\n",
    "else: print(\"its not ok\")\n",
    "\n",
    "print(f\"Easy sentences: {easy}. Aceptable: {aceptable}. Hard: {hard}. Very hard: {very_hard}\")"
   ]
  }
 ],
 "metadata": {
  "kernelspec": {
   "display_name": "venv",
   "language": "python",
   "name": "python3"
  },
  "language_info": {
   "codemirror_mode": {
    "name": "ipython",
    "version": 3
   },
   "file_extension": ".py",
   "mimetype": "text/x-python",
   "name": "python",
   "nbconvert_exporter": "python",
   "pygments_lexer": "ipython3",
   "version": "3.11.2"
  }
 },
 "nbformat": 4,
 "nbformat_minor": 2
}
